{
 "cells": [
  {
   "cell_type": "code",
   "execution_count": 1,
   "id": "c72bfd0f",
   "metadata": {},
   "outputs": [],
   "source": [
    "#### CONFIGURATION\n",
    "competitions_per_year_csv = \"output/itsf_competitions_per_year.csv\" # output file of 01_scape_tournament_entries.ipynb\n",
    "output_csv = \"output/scraped_itsf_tournament_results.csv\"\n",
    "#### "
   ]
  },
  {
   "cell_type": "code",
   "execution_count": 2,
   "id": "0f4471e1",
   "metadata": {},
   "outputs": [],
   "source": [
    "from typing import List\n",
    "from bs4 import BeautifulSoup\n",
    "from tqdm import tqdm\n",
    "\n",
    "import pandas as pd\n",
    "\n",
    "import csv\n",
    "import html5lib\n",
    "import re\n",
    "import os\n",
    "import requests"
   ]
  },
  {
   "cell_type": "code",
   "execution_count": 3,
   "id": "fbc0a2a1",
   "metadata": {},
   "outputs": [],
   "source": [
    "file_exists = os.path.isfile(output_csv)\n",
    "\n",
    "if not file_exists:\n",
    "    # If file doesn't exist, create and write a header row\n",
    "    with open(output_csv, \"w\", newline='') as file:\n",
    "        writer = csv.writer(file)\n",
    "        writer.writerow(['competition_id', 'view', 'teams', 'ranks'])\n",
    "\n",
    "itsf_results = pd.read_csv(output_csv)"
   ]
  },
  {
   "cell_type": "code",
   "execution_count": 4,
   "id": "b820f81c",
   "metadata": {},
   "outputs": [],
   "source": [
    "def get_and_parse_competition_results(url, session=None):\n",
    "    \"\"\"\n",
    "    Parses the competition results at the page of the URL.\n",
    "    \n",
    "    The output is in the form: [([\"Bert\", \"Ernie\"], 1), ([\"Harry\", \"Voldemort\"], 2)]\n",
    "    \n",
    "    :param url: the year for wich to obtain the ITSF tournaments\n",
    "    :returns: the competition result\n",
    "    \"\"\"\n",
    "\n",
    "    if session is None:\n",
    "        session = requests.Session()\n",
    "\n",
    "    results = []\n",
    "    response = session.get(url)\n",
    "    soup = BeautifulSoup(response.content, 'html5lib')\n",
    "    target_element = soup.find(string=\"Team\")\n",
    "\n",
    "    if target_element:\n",
    "        parent_element = target_element.find_parent().find_parent()\n",
    "        sibling_elements = parent_element.find_next_siblings()\n",
    "\n",
    "        for sibling in sibling_elements:\n",
    "            # Extract leading digit separately\n",
    "            leading_digit = re.search(r'^\\d+', sibling.get_text(strip=True))\n",
    "            leading_digit = leading_digit.group(0) if leading_digit else ''\n",
    "\n",
    "            # Exclude blocks containing \"TS\" between parentheses\n",
    "            sibling_text = sibling.get_text(strip=True)\n",
    "            sibling_text = re.sub(r'\\([^()]*TS[^()]*\\)', '', sibling_text)\n",
    "\n",
    "            # Remove leading digit from sibling text\n",
    "            sibling_text = re.sub(r'^\\d+', '', sibling_text)\n",
    "\n",
    "            # Remove trailing digits for player age group indication using regex (e.g., 65+)\n",
    "            sibling_text = re.sub(r'\\d+[+-]$', '', sibling_text)\n",
    "            sibling_text = sibling_text.strip()\n",
    "            \n",
    "            # Print the leading digit and modified sibling text\n",
    "            if \" - \" in sibling_text:\n",
    "                try:\n",
    "                    player1, player2 = sibling_text.split(\" - \")\n",
    "                except ValueError:\n",
    "                    print(f\"WARNING: cannot parse players from {sibling_text}, skipping team\")\n",
    "                    continue\n",
    "                results += [([player1, player2], leading_digit)]\n",
    "            else:\n",
    "                player1 = sibling_text\n",
    "                results += [([player1], leading_digit)]            \n",
    "            \n",
    "        return results\n",
    "    else:\n",
    "        return"
   ]
  },
  {
   "cell_type": "code",
   "execution_count": 5,
   "id": "4537d7d0",
   "metadata": {},
   "outputs": [],
   "source": [
    "def parse_and_persist_competition_result(competition_id: str, csv_filename: str) -> None:\n",
    "    \"\"\"\n",
    "    Wraps around get_and_parse_competition_results by obtaining results for both the\n",
    "    qualifiers-phase and the final-phase (knockout) of the competition and\n",
    "    writing result rows to CSV.\n",
    "    \n",
    "    :param competition_id: the competition id to process\n",
    "    :param csv_filename: the CSV filename to write the results to\n",
    "    \"\"\"\n",
    "    views = [\"qualif_ranking\", \"final_ranking\"]\n",
    "    for view in views:\n",
    "        url = f\"https://extranet.fast4foos.org/fast/tournament/players_station/players_station_competition.jsp?lang=en&competitionId=0&originalCompetitionId={competition_id}&playerId=0&view={view}&noTimeout=false&screenIndex=-1&barCode=null\"\n",
    "        results = get_and_parse_competition_results(url)\n",
    "        if results is None or len(results) == 0:\n",
    "            continue\n",
    "        teams = [elem[0] for elem in results]\n",
    "        ranks = [elem[1] for elem in results]\n",
    "                \n",
    "        if csv_filename:\n",
    "            with open(csv_filename, \"a\", newline='') as file:\n",
    "                writer = csv.writer(file)\n",
    "                team_string = \"||\".join([\"|\".join(team) if len(team) > 1 else team[0] for team in teams])\n",
    "                writer.writerow([competition_id,view,team_string,\"||\".join(ranks)])"
   ]
  },
  {
   "cell_type": "code",
   "execution_count": 6,
   "id": "a67488de",
   "metadata": {},
   "outputs": [],
   "source": [
    "tournaments = pd.read_csv(competitions_per_year_csv)"
   ]
  },
  {
   "cell_type": "code",
   "execution_count": 7,
   "id": "8941a8c4",
   "metadata": {},
   "outputs": [
    {
     "name": "stderr",
     "output_type": "stream",
     "text": [
      "100it [00:00, 316312.52it/s]\n"
     ]
    }
   ],
   "source": [
    "# Process all the competition results that were already in CSV file. This allows us to load and continue \n",
    "# from where we left off in the case of an error, making us resilient to e.g. connection errors.\n",
    "already_scraped_competitions = set(itsf_results.competition_id)\n",
    "\n",
    "for i, tournament in tqdm(enumerate(list(tournaments[\"competition_id\"]))):\n",
    "    if tournament not in already_scraped_competitions:\n",
    "        parse_and_persist_competition_result(tournament, csv_filename=output_csv)\n",
    "        tournament += 1\n",
    "        already_scraped_competitions.add(tournament)"
   ]
  }
 ],
 "metadata": {
  "kernelspec": {
   "display_name": "Python 3 (ipykernel)",
   "language": "python",
   "name": "python3"
  },
  "language_info": {
   "codemirror_mode": {
    "name": "ipython",
    "version": 3
   },
   "file_extension": ".py",
   "mimetype": "text/x-python",
   "name": "python",
   "nbconvert_exporter": "python",
   "pygments_lexer": "ipython3",
   "version": "3.11.3"
  }
 },
 "nbformat": 4,
 "nbformat_minor": 5
}
